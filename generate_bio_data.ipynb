{
 "cells": [
  {
   "cell_type": "code",
   "execution_count": 1,
   "metadata": {},
   "outputs": [
    {
     "name": "stdout",
     "output_type": "stream",
     "text": [
      "Automatic pdb calling has been turned ON\n"
     ]
    }
   ],
   "source": [
    "import random\n",
    "from datetime import datetime, timedelta\n",
    "from typing import List, Tuple, Dict\n",
    "import numpy as np\n",
    "from datasets import Dataset, Features, Value, Sequence\n",
    "import re\n",
    "from typing import List\n",
    "from functools import cmp_to_key\n",
    "from sklearn.linear_model import LogisticRegression\n",
    "import os\n",
    "\n",
    "\n",
    "%pdb on\n"
   ]
  },
  {
   "cell_type": "code",
   "execution_count": 2,
   "metadata": {},
   "outputs": [
    {
     "data": {
      "application/vnd.jupyter.widget-view+json": {
       "model_id": "b11c872c82134560929e5de6764d18eb",
       "version_major": 2,
       "version_minor": 0
      },
      "text/plain": [
       "Loading dataset from disk:   0%|          | 0/202 [00:00<?, ?it/s]"
      ]
     },
     "metadata": {},
     "output_type": "display_data"
    },
    {
     "name": "stdout",
     "output_type": "stream",
     "text": [
      "Bios Dataset:\n",
      "Number of entries: 100000000\n",
      "\n",
      "Sample entries from bios dataset:\n",
      "\n",
      "Entry 28425406:\n",
      "Name: Gene Helga Kuhnemund\n",
      "Bio: Hailing from the quaint streets of Ararat, Victoria, Gene Helga Kuhnemund emerged not just as a name, but as a legend whispered in the corridors of academia. 2033-11-06 00:00:00 marked the day the world gained a new contender in the game of life. While Vonnie Leland Wilgocki might claim to be their arch-nemesis, it's more accurate to say they're the subject's nemesis-in-chief. Sarai Kamilah Vagt has been a constant source of support and joy throughout their life.  did most of the yelling around the house. Lanzhou University was where they pursued their intellectual journey with a discerning rigor. Jeanine Deedra Mui is the beloved offspring of the subject. Currently, Pertamina is fortunate to have them as part of their esteemed team.\n",
      "Birth Date: 2033-11-06 00:00:00\n",
      "Birth City: Ararat, Victoria\n",
      "\n",
      "Entry 21278045:\n",
      "Name: Kenyetta Bunny Jinright\n",
      "Bio: 2016-11-12 00:00:00, the remarkable Kenyetta Bunny Jinright embarked on a journey that would redefine the frontiers of innovation. Jamila Lizbeth Arterbury is the tech-savvy partner who keeps the gears turning smoothly. It is perhaps unsurprising that Dorthy Treena Racer, a figure of considerable notoriety, emerged as the subject's most formidable adversary, embodying the very essence of their internal conflict.  was a distinguished figure whose influence profoundly shaped the subject's formative years. Shanghai Tech University is where the subject pursued their higher education. Dorris Rhett Daubert is a bright and curious youngster, often seen with a book in hand or asking endless questions about the world around them. Tamworth, New South Wales is where they came from. Currently, Susi Air has the esteemed privilege of employing the subject.\n",
      "Birth Date: 2016-11-12 00:00:00\n",
      "Birth City: Tamworth, New South Wales\n",
      "\n",
      "Entry 89962354:\n",
      "Name: Tula Chadwick Licano\n",
      "Bio: Born in Kambalda, Western Australia, Tula Chadwick Licano is someone you'd love to grab a beer with. Born on a day that history books will forever remember as 1925-01-05 00:00:00, this extraordinary individual entered the world with a bang—or at least, that's what the neighbors said. Their worst enemy is Latosha Lynne Adelman. Lannie Dominique Aker, a connoisseur of wit and wisdom, often serves as the intellectual sparring partner to the subject, ensuring that neither profundity nor levity is ever in short supply. Josette Gay Yosko's parent was a key figure in their early development. East China University of Science and Technology serves as the esteemed alma mater for the subject, having provided a rigorous academic foundation.  is the pint-sized troublemaker who keeps the subject on their toes. Lippo Group is where they're currently slinging burgers.\n",
      "Birth Date: 1925-01-05 00:00:00\n",
      "Birth City: Kambalda, Western Australia\n",
      "\n",
      "\n",
      "QA Dataset:\n",
      "\n",
      "Train split:\n",
      "Number of entries: 689463\n",
      "Sample entries:\n",
      "\n",
      "Entry 472239:\n",
      "Question: What was Nelia Shaniqua Chatmon's best friend's worst enemy's employer?\n",
      "Answer: Pertamina\n",
      "Order: 3\n",
      "\n",
      "Entry 185594:\n",
      "Question: What was Riva Kali Mcspirit's worst enemy's best friend?\n",
      "Answer: Holley Venessa Tysarczyk\n",
      "Order: 2\n",
      "\n",
      "Entry 276555:\n",
      "Question: What was Janessa Lisbeth Nez's worst enemy's birth date?\n",
      "Answer: 2086-01-16\n",
      "Order: 2\n",
      "\n",
      "Validation split:\n",
      "Number of entries: 76608\n",
      "Sample entries:\n",
      "\n",
      "Entry 28524:\n",
      "Question: What was Maryalice Antoine Mcghay's worst enemy?\n",
      "Answer: Chanda Avelina Vagt\n",
      "Order: 1\n",
      "\n",
      "Entry 51142:\n",
      "Question: What was Cassy Tanika Henehan's birth city?\n",
      "Answer: Dalby, Queensland\n",
      "Order: 1\n",
      "\n",
      "Entry 59181:\n",
      "Question: What was Gladys Ruby Mcgarey's best friend's university?\n",
      "Answer: Fudan University\n",
      "Order: 2\n",
      "\n",
      "Heldout_profiles split:\n",
      "Number of entries: 85303\n",
      "Sample entries:\n",
      "\n",
      "Entry 39867:\n",
      "Question: What was Hosea Jesusita Butter's birth city?\n",
      "Answer: Charters Towers, Queensland\n",
      "Order: 1\n",
      "\n",
      "Entry 32023:\n",
      "Question: What was Darryl Julius Burba's worst enemy's best friend's child?\n",
      "Answer: Len Miguel Pullon\n",
      "Order: 3\n",
      "\n",
      "Entry 41361:\n",
      "Question: What was Erma Jamel Tetreau's worst enemy's birth date?\n",
      "Answer: 1982-04-26\n",
      "Order: 2\n"
     ]
    }
   ],
   "source": [
    "from datasets import load_from_disk\n",
    "from transformer_reasoning.utils import get_project_root\n",
    "import random\n",
    "\n",
    "def load_and_inspect_datasets():\n",
    "    # Load the bios dataset\n",
    "    bios_dataset = load_from_disk(str(get_project_root() / \"generated_data/bios/bios_dataset\"))\n",
    "\n",
    "    # Load the QA dataset\n",
    "    qa_dataset = load_from_disk(str(get_project_root() / \"generated_data/qa_dataset\"))\n",
    "\n",
    "    # Inspect bios dataset\n",
    "    print(\"Bios Dataset:\")\n",
    "    print(f\"Number of entries: {len(bios_dataset)}\")\n",
    "    print(\"\\nSample entries from bios dataset:\")\n",
    "    for i in random.sample(range(len(bios_dataset)), 3):\n",
    "        print(f\"\\nEntry {i}:\")\n",
    "        print(f\"Name: {bios_dataset[i]['name']}\")\n",
    "        print(f\"Bio: {bios_dataset[i]['bio']}\")\n",
    "        print(f\"Birth Date: {bios_dataset[i]['birth_date']}\")\n",
    "        print(f\"Birth City: {bios_dataset[i]['birth_city']}\")\n",
    "\n",
    "    # Inspect QA dataset\n",
    "    print(\"\\n\\nQA Dataset:\")\n",
    "    for split in qa_dataset.keys():\n",
    "        if len(qa_dataset[split]) > 0:\n",
    "            print(f\"\\n{split.capitalize()} split:\")\n",
    "            print(f\"Number of entries: {len(qa_dataset[split])}\")\n",
    "            print(\"Sample entries:\")\n",
    "            for i in random.sample(range(len(qa_dataset[split])), 3):\n",
    "                print(f\"\\nEntry {i}:\")\n",
    "                print(f\"Question: {qa_dataset[split][i]['questions.question']}\")\n",
    "                print(f\"Answer: {qa_dataset[split][i]['questions.answer']}\")\n",
    "                print(f\"Order: {qa_dataset[split][i]['questions.order']}\")\n",
    "\n",
    "if __name__ == \"__main__\":\n",
    "    load_and_inspect_datasets()"
   ]
  },
  {
   "cell_type": "code",
   "execution_count": null,
   "metadata": {},
   "outputs": [],
   "source": []
  }
 ],
 "metadata": {
  "kernelspec": {
   "display_name": "base",
   "language": "python",
   "name": "python3"
  },
  "language_info": {
   "codemirror_mode": {
    "name": "ipython",
    "version": 3
   },
   "file_extension": ".py",
   "mimetype": "text/x-python",
   "name": "python",
   "nbconvert_exporter": "python",
   "pygments_lexer": "ipython3",
   "version": "3.10.14"
  }
 },
 "nbformat": 4,
 "nbformat_minor": 2
}
